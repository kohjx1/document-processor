{
 "cells": [
  {
   "cell_type": "code",
   "execution_count": 48,
   "metadata": {},
   "outputs": [],
   "source": [
    "try:\n",
    "    from PIL import Image\n",
    "except ImportError:\n",
    "    import Image\n",
    "import cv2\n",
    "import pytesseract\n",
    "from pytesseract import Output\n",
    "import os\n",
    "import numpy as np\n",
    "import pandas as pd\n",
    "import re\n",
    "from pdf2image import convert_from_bytes"
   ]
  },
  {
   "cell_type": "code",
   "execution_count": 45,
   "metadata": {},
   "outputs": [
    {
     "name": "stdout",
     "output_type": "stream",
     "text": [
      "['20231108170040648.pdf']\n"
     ]
    }
   ],
   "source": [
    "PATH = os.getcwd()\n",
    "file_list = [f for f in os.listdir(path=PATH) if f.endswith('.pdf') or f.endswith('.PDF')]\n",
    "print(file_list)"
   ]
  },
  {
   "cell_type": "code",
   "execution_count": 76,
   "metadata": {},
   "outputs": [
    {
     "name": "stdout",
     "output_type": "stream",
     "text": [
      "['./test0001-1.png']\n",
      "TRANSACTION TYPE\n",
      "\n",
      "Invoice\n",
      "\n",
      "INVOICE NO\n",
      "\n",
      "3002686\n",
      "\n"
     ]
    }
   ],
   "source": [
    "for file in file_list:\n",
    "    pdf_file = convert_from_bytes(pdf_file=open(os.path.join(PATH,file), 'rb').read(),output_folder=\"./\",fmt=\"png\",output_file=\"test\", paths_only=True)\n",
    "    print(pdf_file)\n",
    "    img = cv2.imread(pdf_file[0])\n",
    "    # d = pytesseract.image_to_data(img, output_type=Output.DICT)\n",
    "    # cv2.rectangle(img, (1232,220),(1232+352, 220+152),(0, 255, 0), 2)\n",
    "    rgb = cv2.cvtColor(img[220:220+152,1232:1232+352], cv2.COLOR_BGR2RGB)\n",
    "    text = pytesseract.image_to_string(rgb,config='--psm 12')\n",
    "    print(text)\n",
    "    \n",
    "    # [80:280, 150:330]\n",
    "    # im[y:y+h,x:x+w]\n",
    "    #  [x, y, w, h]\n",
    "\n",
    "# (1232, 220, 352, 152)"
   ]
  },
  {
   "cell_type": "code",
   "execution_count": 54,
   "metadata": {},
   "outputs": [
    {
     "name": "stdout",
     "output_type": "stream",
     "text": [
      "['20231108170040648.pdf']\n",
      "20231108170040648.pdf is done\n",
      "{'20231108170040648.pdf':         conf                                               text\n",
      "0  91.376072  LEVEL 4, TOWER BLOCK SENeRue\\nMINISTRY OF FINA...}\n"
     ]
    },
    {
     "name": "stderr",
     "output_type": "stream",
     "text": [
      "/var/folders/p8/l8819qyd3sb58xlt7jf00p940000gn/T/ipykernel_27858/1546558773.py:51: FutureWarning: The behavior of DataFrame concatenation with empty or all-NA entries is deprecated. In a future version, this will no longer exclude empty or all-NA columns when determining the result dtypes. To retain the old behavior, exclude the relevant entries before the concat operation.\n",
      "  pages_df = pages_df._append({'conf': page_conf,'text': pytesseract.image_to_string(page_deskew, config='--psm 5')}, ignore_index=True)\n"
     ]
    }
   ],
   "source": [
    "\n",
    "# Some help functions \n",
    "def get_conf(page_gray):\n",
    "    '''return a average confidence value of OCR result '''\n",
    "    df = pytesseract.image_to_data(page_gray,output_type='data.frame')\n",
    "    df.drop(df[df.conf==-1].index.values,inplace=True)\n",
    "    df.reset_index()\n",
    "    return df.conf.mean()\n",
    "  \n",
    "def deskew(image):\n",
    "    '''deskew the image'''\n",
    "    gray = cv2.bitwise_not(image)\n",
    "    temp_arr = cv2.threshold(gray, 0, 255, cv2.THRESH_BINARY + cv2.THRESH_OTSU)[1]\n",
    "    coords = np.column_stack(np.where(temp_arr > 0))\n",
    "    angle = cv2.minAreaRect(coords)[-1]\n",
    "    if angle < -45:\n",
    "        angle = -(90 + angle)\n",
    "    else:\n",
    "        angle = -angle\n",
    "    (h, w) = image.shape[:2]\n",
    "    center = (w // 2, h // 2)\n",
    "    M = cv2.getRotationMatrix2D(center, angle, 1.0)\n",
    "    rotated = cv2.warpAffine(image, M, (w, h), flags=cv2.INTER_CUBIC, borderMode=cv2.BORDER_REPLICATE)\n",
    "    return rotated\n",
    "  \n",
    "'''\n",
    "Main part of OCR:\n",
    "pages_df: save eextracted text for each pdf file, index by page\n",
    "OCR_dic : dict for saving df of each pdf, filename is the key\n",
    "'''\n",
    "PATH = os.getcwd()\n",
    "file_list = [f for f in os.listdir(path=PATH) if f.endswith('.pdf') or f.endswith('.PDF')]\n",
    "print(file_list)\n",
    "\n",
    "OCR_dic={} \n",
    "for file in file_list:\n",
    "    # convert pdf into image\n",
    "    pdf_file = convert_from_bytes(pdf_file=open(os.path.join(PATH,file), 'rb').read(),output_folder=\"./\",fmt=\"jpg\")\n",
    "    # create a df to save each pdf's text\n",
    "    pages_df = pd.DataFrame(columns=['conf','text'])\n",
    "    for (i,page) in enumerate(pdf_file) :\n",
    "        try:\n",
    "            # transfer image of pdf_file into array\n",
    "            page_arr = np.asarray(page)\n",
    "            # transfer into grayscale\n",
    "            page_arr_gray = cv2.cvtColor(page_arr,cv2.COLOR_BGR2GRAY)\n",
    "            # deskew the page\n",
    "            page_deskew = deskew(page_arr_gray)\n",
    "            # cal confidence value\n",
    "            page_conf = get_conf(page_deskew)\n",
    "            # extract string \n",
    "            pages_df = pages_df._append({'conf': page_conf,'text': pytesseract.image_to_string(page_deskew, config='--psm 5')}, ignore_index=True)\n",
    "        except:\n",
    "            # if can't extract then give some notes into df\n",
    "            pages_df = pages_df._append({'conf': -1,'text': 'N/A'}, ignore_index=True)\n",
    "            continue\n",
    "    # save df into a dict with filename as key        \n",
    "    OCR_dic[file]=pages_df\n",
    "    print('{} is done'.format(file))\n",
    "    print(OCR_dic)"
   ]
  },
  {
   "cell_type": "code",
   "execution_count": 28,
   "metadata": {},
   "outputs": [
    {
     "name": "stderr",
     "output_type": "stream",
     "text": [
      "/var/folders/p8/l8819qyd3sb58xlt7jf00p940000gn/T/ipykernel_27858/2799396480.py:30: FutureWarning: Calling int on a single element Series is deprecated and will raise a TypeError in the future. Use int(ser.iloc[0]) instead\n",
      "  block_num = int(d_df.loc[d_df['level']==2,['block_num']].max())\n",
      "/var/folders/p8/l8819qyd3sb58xlt7jf00p940000gn/T/ipykernel_27858/2799396480.py:38: FutureWarning: The behavior of DataFrame concatenation with empty or all-NA entries is deprecated. In a future version, this will no longer exclude empty or all-NA columns when determining the result dtypes. To retain the old behavior, exclude the relevant entries before the concat operation.\n",
      "  pages_df = pages_df._append({'conf': page_conf,'text': text}, ignore_index=True)\n"
     ]
    },
    {
     "name": "stdout",
     "output_type": "stream",
     "text": [
      "0    Te te ee et SINGAPORE 369977 Singapore       R...\n",
      "Name: text, dtype: object\n",
      "0                                        LEVEL 4, T...\n",
      "Name: text, dtype: object\n"
     ]
    },
    {
     "name": "stderr",
     "output_type": "stream",
     "text": [
      "/var/folders/p8/l8819qyd3sb58xlt7jf00p940000gn/T/ipykernel_27858/2799396480.py:30: FutureWarning: Calling int on a single element Series is deprecated and will raise a TypeError in the future. Use int(ser.iloc[0]) instead\n",
      "  block_num = int(d_df.loc[d_df['level']==2,['block_num']].max())\n",
      "/var/folders/p8/l8819qyd3sb58xlt7jf00p940000gn/T/ipykernel_27858/2799396480.py:38: FutureWarning: The behavior of DataFrame concatenation with empty or all-NA entries is deprecated. In a future version, this will no longer exclude empty or all-NA columns when determining the result dtypes. To retain the old behavior, exclude the relevant entries before the concat operation.\n",
      "  pages_df = pages_df._append({'conf': page_conf,'text': text}, ignore_index=True)\n"
     ]
    }
   ],
   "source": [
    "PATH = os.getcwd()\n",
    "file_list = [f for f in os.listdir(path=PATH) if f.endswith('.pdf') or f.endswith('.PDF')]\n",
    "\n",
    "def combine_texts(list_of_text):\n",
    "    '''Taking a list of texts and combining them into one large chunk of text.'''\n",
    "    combined_text = ' '.join(list_of_text)\n",
    "    return combined_text\n",
    "\n",
    " \n",
    "OCR_dic={} \n",
    "for file in file_list:\n",
    "    # convert pdf into image\n",
    "    pdf_file = convert_from_bytes(open(os.path.join(PATH,file), 'rb').read())\n",
    "    # create a df to save each pdf's text\n",
    "    pages_df = pd.DataFrame(columns=['conf','text'])\n",
    "    for (i,page) in enumerate(pdf_file) :\n",
    "        try:\n",
    "            # transfer image of pdf_file into array\n",
    "            page_arr = np.asarray(page)\n",
    "            # transfer into grayscale\n",
    "            page_arr_gray = cv2.cvtColor(page_arr,cv2.COLOR_BGR2GRAY)\n",
    "            page_arr_gray = cv2.fastNlMeansDenoising(page_arr_gray,None,3,7,21)\n",
    "            page_deskew = deskew(page_arr_gray)\n",
    "            # cal confidence value\n",
    "            page_conf = get_conf(page_deskew)\n",
    "            # extract string \n",
    "            d = pytesseract.image_to_data(page_deskew,output_type=pytesseract.Output.DICT)\n",
    "            d_df = pd.DataFrame.from_dict(d)\n",
    "            # get block number\n",
    "            block_num = int(d_df.loc[d_df['level']==2,['block_num']].max())\n",
    "            # drop header and footer by index\n",
    "            head_index = d_df[d_df['block_num']==1].index.values\n",
    "            foot_index = d_df[d_df['block_num']==block_num].index.values\n",
    "            d_df.drop(head_index,inplace=True)\n",
    "            d_df.drop(foot_index,inplace=True)\n",
    "            # combine text in dataframe\n",
    "            text = combine_texts(d_df.loc[d_df['level']==5,'text'].values)\n",
    "            pages_df = pages_df._append({'conf': page_conf,'text': text}, ignore_index=True)\n",
    "        except Exception as e:\n",
    "            # if can't extract then give some notes into df\n",
    "            if hasattr(e,'message'):\n",
    "                pages_df = pages_df._append({'conf': -1,'text': e.message}, ignore_index=True)\n",
    "            else:\n",
    "                pages_df = pages_df._append({'conf': -1,'text': e}, ignore_index=True)\n",
    "            continue\n",
    "    # save df into a dict with filename as key        \n",
    "    OCR_dic[file]=pages_df\n",
    "    # print('{} is done'.format(file))\n",
    "    print(pages_df[\"text\"])"
   ]
  },
  {
   "cell_type": "code",
   "execution_count": null,
   "metadata": {},
   "outputs": [],
   "source": []
  }
 ],
 "metadata": {
  "kernelspec": {
   "display_name": "Python 3",
   "language": "python",
   "name": "python3"
  },
  "language_info": {
   "codemirror_mode": {
    "name": "ipython",
    "version": 3
   },
   "file_extension": ".py",
   "mimetype": "text/x-python",
   "name": "python",
   "nbconvert_exporter": "python",
   "pygments_lexer": "ipython3",
   "version": "3.12.0"
  },
  "orig_nbformat": 4
 },
 "nbformat": 4,
 "nbformat_minor": 2
}
