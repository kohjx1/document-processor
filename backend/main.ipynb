{
 "cells": [
  {
   "cell_type": "code",
   "execution_count": 93,
   "metadata": {},
   "outputs": [],
   "source": [
    "try:\n",
    "    from PIL import Image\n",
    "except ImportError:\n",
    "    import Image\n",
    "import cv2\n",
    "import pytesseract\n",
    "from pytesseract import Output\n",
    "import os\n",
    "import numpy as np\n",
    "import pandas as pd\n",
    "import re\n",
    "from pdf2image import convert_from_bytes\n"
   ]
  },
  {
   "cell_type": "code",
   "execution_count": 94,
   "metadata": {},
   "outputs": [
    {
     "name": "stdout",
     "output_type": "stream",
     "text": [
      "['INV-7278395(Nov 10).pdf']\n"
     ]
    }
   ],
   "source": [
    "PATH = os.getcwd()\n",
    "file_list = [f for f in os.listdir(path=PATH) if f.endswith('.pdf') or f.endswith('.PDF')]\n",
    "print(file_list)"
   ]
  },
  {
   "cell_type": "code",
   "execution_count": 101,
   "metadata": {},
   "outputs": [
    {
     "name": "stdout",
     "output_type": "stream",
     "text": [
      "['./test0001-1.png']\n",
      "2339\n",
      "1653\n",
      "SHIP TO\n",
      "\n",
      "SATO KOGYO (S) PTE LTD\n",
      "\n",
      "TRINITY CHRISTIAN CENTRE PROJECT\n",
      "\n",
      "559 BUKIT TIMAH ROAD #03-02\n",
      "\n",
      "KING’S ARCADE\n",
      "\n",
      "SINGAPORE 269695\n",
      "\n",
      "Singapore\n",
      "\n"
     ]
    }
   ],
   "source": [
    "for file in file_list:\n",
    "    pdf_file = convert_from_bytes(pdf_file=open(os.path.join(PATH,file), 'rb').read(),output_folder=\"./\",fmt=\"png\",output_file=\"test\", paths_only=True)\n",
    "    print(pdf_file)\n",
    "    img = cv2.imread(pdf_file[0])\n",
    "    im = Image.open(pdf_file[0])\n",
    "    print(im.height)\n",
    "    print(im.width)\n",
    "    # cv2.rectangle(img, (1232,220),(1232+352, 220+152),(0, 255, 0), 2)\n",
    "    # rgb = cv2.cvtColor(img[220:220+152,1232:1232+352], cv2.COLOR_BGR2RGB)\n",
    "    rgb = cv2.cvtColor(img[214:214+259,636:636+600], cv2.COLOR_BGR2RGB)\n",
    "    # rgb = cv2.cvtColor(img[72:94,541:700], cv2.COLOR_BGR2RGB)\n",
    "    text = pytesseract.image_to_string(rgb,config='--psm 12')\n",
    "    print(text)\n",
    "    \n",
    "    # [80:280, 150:330]\n",
    "    # im[y:y+h,x:x+w]\n",
    "    #  [x, y, w, h]\n",
    "    # use top as y and left as x\n",
    "\n",
    "# (1232, 220, 352, 152)"
   ]
  },
  {
   "cell_type": "code",
   "execution_count": null,
   "metadata": {},
   "outputs": [],
   "source": [
    "y: 214\n",
    "x: 636\n",
    "w: 600\n",
    "h: 259"
   ]
  }
 ],
 "metadata": {
  "kernelspec": {
   "display_name": "Python 3",
   "language": "python",
   "name": "python3"
  },
  "language_info": {
   "codemirror_mode": {
    "name": "ipython",
    "version": 3
   },
   "file_extension": ".py",
   "mimetype": "text/x-python",
   "name": "python",
   "nbconvert_exporter": "python",
   "pygments_lexer": "ipython3",
   "version": "3.12.0"
  },
  "orig_nbformat": 4
 },
 "nbformat": 4,
 "nbformat_minor": 2
}
